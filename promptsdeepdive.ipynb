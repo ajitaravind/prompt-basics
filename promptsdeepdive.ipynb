{
  "nbformat": 4,
  "nbformat_minor": 0,
  "metadata": {
    "colab": {
      "provenance": [],
      "authorship_tag": "ABX9TyMDWFIzitgTSDTxgpfcxqSZ",
      "include_colab_link": true
    },
    "kernelspec": {
      "name": "python3",
      "display_name": "Python 3"
    },
    "language_info": {
      "name": "python"
    }
  },
  "cells": [
    {
      "cell_type": "markdown",
      "metadata": {
        "id": "view-in-github",
        "colab_type": "text"
      },
      "source": [
        "<a href=\"https://colab.research.google.com/github/ajitaravind/prompt-basics/blob/main/promptsdeepdive.ipynb\" target=\"_parent\"><img src=\"https://colab.research.google.com/assets/colab-badge.svg\" alt=\"Open In Colab\"/></a>"
      ]
    },
    {
      "cell_type": "code",
      "execution_count": null,
      "metadata": {
        "id": "3AYc6vc-zQGC"
      },
      "outputs": [],
      "source": [
        "%%capture\n",
        "pip install langchain langchain_openai openai"
      ]
    },
    {
      "cell_type": "code",
      "source": [
        "import os\n",
        "from google.colab import userdata\n",
        "os.environ[\"OPENAI_API_KEY\"] = userdata.get('OPENAI_API_KEY')"
      ],
      "metadata": {
        "id": "KfcvZZstzWI5"
      },
      "execution_count": null,
      "outputs": []
    },
    {
      "cell_type": "code",
      "source": [
        "from langchain.prompts import PromptTemplate\n",
        "from langchain_openai import ChatOpenAI"
      ],
      "metadata": {
        "id": "gzoCwEqqznmm"
      },
      "execution_count": null,
      "outputs": []
    },
    {
      "cell_type": "markdown",
      "source": [
        "Prompt Template - Option 1"
      ],
      "metadata": {
        "id": "B92nYTX31Foa"
      }
    },
    {
      "cell_type": "code",
      "source": [
        "template = PromptTemplate.from_template(\"Translate user query '''{query}''' to language ```{language}```\")\n",
        "prompt = template.format(query = \"how are you?\",language = \"spanish\")"
      ],
      "metadata": {
        "id": "uB-uOAyPz6BW"
      },
      "execution_count": null,
      "outputs": []
    },
    {
      "cell_type": "code",
      "source": [
        "template"
      ],
      "metadata": {
        "colab": {
          "base_uri": "https://localhost:8080/"
        },
        "id": "_EGA3_vK2NOy",
        "outputId": "f9ba2da4-c576-48cf-cabf-6fd3d3cb25af"
      },
      "execution_count": null,
      "outputs": [
        {
          "output_type": "execute_result",
          "data": {
            "text/plain": [
              "PromptTemplate(input_variables=['language', 'query'], template=\"Translate user query '''{query}''' to language {language}\")"
            ]
          },
          "metadata": {},
          "execution_count": 23
        }
      ]
    },
    {
      "cell_type": "markdown",
      "source": [
        "Note the output of priting template above"
      ],
      "metadata": {
        "id": "0_f07CNw2Xei"
      }
    },
    {
      "cell_type": "code",
      "source": [
        "prompt"
      ],
      "metadata": {
        "colab": {
          "base_uri": "https://localhost:8080/",
          "height": 36
        },
        "id": "XY3AzDxy0SLy",
        "outputId": "99904301-367a-4f40-ace5-46b287255b02"
      },
      "execution_count": null,
      "outputs": [
        {
          "output_type": "execute_result",
          "data": {
            "text/plain": [
              "\"Translate user query '''how are you?''' to language ```spanish```\""
            ],
            "application/vnd.google.colaboratory.intrinsic+json": {
              "type": "string"
            }
          },
          "metadata": {},
          "execution_count": 8
        }
      ]
    },
    {
      "cell_type": "code",
      "source": [
        "model = ChatOpenAI()"
      ],
      "metadata": {
        "id": "buFR8DZV0h_w"
      },
      "execution_count": null,
      "outputs": []
    },
    {
      "cell_type": "code",
      "source": [
        "result = model.invoke(prompt)"
      ],
      "metadata": {
        "id": "8Iq_gXbU0WkC"
      },
      "execution_count": null,
      "outputs": []
    },
    {
      "cell_type": "code",
      "source": [
        "result.content"
      ],
      "metadata": {
        "colab": {
          "base_uri": "https://localhost:8080/",
          "height": 36
        },
        "id": "rQiWVVW009Rz",
        "outputId": "dfbee4cc-74db-4f08-dbb0-c274427d063d"
      },
      "execution_count": null,
      "outputs": [
        {
          "output_type": "execute_result",
          "data": {
            "text/plain": [
              "'¿Cómo estás?'"
            ],
            "application/vnd.google.colaboratory.intrinsic+json": {
              "type": "string"
            }
          },
          "metadata": {},
          "execution_count": 14
        }
      ]
    },
    {
      "cell_type": "markdown",
      "source": [
        "Prompt Template - Option 2"
      ],
      "metadata": {
        "id": "1ata2sn32Im8"
      }
    },
    {
      "cell_type": "code",
      "source": [
        "template = PromptTemplate(input_variables = [\"query\",\"language\"],template = \"Translate user query '''{query}''' to language {language}\")"
      ],
      "metadata": {
        "id": "m9N6WbnI1AfA"
      },
      "execution_count": null,
      "outputs": []
    },
    {
      "cell_type": "code",
      "source": [
        "query = \"How are you?\"\n",
        "language = \"Spanish\""
      ],
      "metadata": {
        "id": "CThAycv31gmZ"
      },
      "execution_count": null,
      "outputs": []
    },
    {
      "cell_type": "code",
      "source": [
        "result = model.invoke(template.format(query = query,language=language))"
      ],
      "metadata": {
        "id": "5AeYuwl01mQf"
      },
      "execution_count": null,
      "outputs": []
    },
    {
      "cell_type": "code",
      "source": [
        "result.content"
      ],
      "metadata": {
        "colab": {
          "base_uri": "https://localhost:8080/",
          "height": 53
        },
        "id": "k_jD1rZ71qG1",
        "outputId": "976837ad-69e5-4651-f8db-55c21464fe81"
      },
      "execution_count": null,
      "outputs": [
        {
          "output_type": "execute_result",
          "data": {
            "text/plain": [
              "\"In the quiet of the morn, before the day is born\\nThe sky begins to yawn, as the sun's light is drawn\\nPainting colors of pink and gold, a sight to behold\\nWelcome to the dawn, a new day unfolds.\""
            ],
            "application/vnd.google.colaboratory.intrinsic+json": {
              "type": "string"
            }
          },
          "metadata": {},
          "execution_count": 173
        }
      ]
    },
    {
      "cell_type": "markdown",
      "source": [
        "ChatPromptTemplate"
      ],
      "metadata": {
        "id": "mnL8RdZX2m6w"
      }
    },
    {
      "cell_type": "code",
      "source": [
        "from langchain.prompts import ChatPromptTemplate"
      ],
      "metadata": {
        "id": "u2fao6692wpp"
      },
      "execution_count": null,
      "outputs": []
    },
    {
      "cell_type": "code",
      "source": [
        "from langchain.schema import AIMessage, HumanMessage, SystemMessage"
      ],
      "metadata": {
        "id": "LMcrcd-U4_B1"
      },
      "execution_count": null,
      "outputs": []
    },
    {
      "cell_type": "code",
      "source": [
        "template = [\n",
        "SystemMessage(content = \"You are an experting in writing short rhyming poems based on a user input\"),\n",
        "HumanMessage(content = 'Ocean')\n",
        "]"
      ],
      "metadata": {
        "id": "nm2-Tlnx4lkM"
      },
      "execution_count": null,
      "outputs": []
    },
    {
      "cell_type": "code",
      "source": [
        "result = model.invoke(template)"
      ],
      "metadata": {
        "id": "y5HW81klALnH"
      },
      "execution_count": null,
      "outputs": []
    },
    {
      "cell_type": "code",
      "source": [
        "result.content"
      ],
      "metadata": {
        "colab": {
          "base_uri": "https://localhost:8080/",
          "height": 53
        },
        "id": "GsoULzybAPeA",
        "outputId": "95634583-38a3-4152-e687-455643e42748"
      },
      "execution_count": null,
      "outputs": [
        {
          "output_type": "execute_result",
          "data": {
            "text/plain": [
              "\"In the quiet of the morn, before the day is born\\nThe sky begins to yawn, as the sun's light is drawn\\nPainting colors of pink and gold, a sight to behold\\nWelcome to the dawn, a new day unfolds.\""
            ],
            "application/vnd.google.colaboratory.intrinsic+json": {
              "type": "string"
            }
          },
          "metadata": {},
          "execution_count": 172
        }
      ]
    },
    {
      "cell_type": "code",
      "source": [
        "user_input = 'sky'"
      ],
      "metadata": {
        "id": "75RlMxHADurp"
      },
      "execution_count": null,
      "outputs": []
    },
    {
      "cell_type": "code",
      "source": [
        "template = [\n",
        "SystemMessage(content = f\"You are an experting in writing short rhyming poems based on a user input \"),\n",
        "HumanMessage(content = f'{user_input}')\n",
        "]"
      ],
      "metadata": {
        "id": "UbljdW8pDTaF"
      },
      "execution_count": null,
      "outputs": []
    },
    {
      "cell_type": "code",
      "source": [
        "result = model.invoke(template)"
      ],
      "metadata": {
        "id": "omcFIcg7DfyX"
      },
      "execution_count": null,
      "outputs": []
    },
    {
      "cell_type": "code",
      "source": [
        "result.content"
      ],
      "metadata": {
        "colab": {
          "base_uri": "https://localhost:8080/",
          "height": 53
        },
        "id": "Jjkda6vsDikp",
        "outputId": "c0f58ebf-523e-4356-9464-3ad8547778c6"
      },
      "execution_count": null,
      "outputs": [
        {
          "output_type": "execute_result",
          "data": {
            "text/plain": [
              "\"In the quiet of the morn, before the day is born\\nThe sky begins to yawn, as the sun's light is drawn\\nPainting colors of pink and gold, a sight to behold\\nWelcome to the dawn, a new day unfolds.\""
            ],
            "application/vnd.google.colaboratory.intrinsic+json": {
              "type": "string"
            }
          },
          "metadata": {},
          "execution_count": 171
        }
      ]
    },
    {
      "cell_type": "code",
      "source": [
        "from langchain.prompts.chat import (\n",
        "    ChatPromptTemplate,\n",
        "    SystemMessagePromptTemplate,\n",
        "    AIMessagePromptTemplate,\n",
        "    HumanMessagePromptTemplate,\n",
        ")"
      ],
      "metadata": {
        "id": "MamqAVlcAxZh"
      },
      "execution_count": null,
      "outputs": []
    },
    {
      "cell_type": "code",
      "source": [
        "system_template = \"You are an experting in writing short rhyming poems\"\n",
        "system_message_prompt = SystemMessagePromptTemplate.from_template(system_template)\n",
        "human_template = \"{user_input}\"\n",
        "human_message_prompt = HumanMessagePromptTemplate.from_template(human_template)\n",
        "chatPrompt = ChatPromptTemplate(input_variables = [\"user_input\"],messages = [system_message_prompt,human_message_prompt])\n",
        "formattedChatPrompt = chatPrompt.format(user_input =\"water\")"
      ],
      "metadata": {
        "id": "6Z8y4pOg5-yI"
      },
      "execution_count": null,
      "outputs": []
    },
    {
      "cell_type": "code",
      "source": [
        "result = model.invoke(formattedChatPrompt)"
      ],
      "metadata": {
        "id": "k8-aZLm8CmXS"
      },
      "execution_count": null,
      "outputs": []
    },
    {
      "cell_type": "code",
      "source": [
        "result.content"
      ],
      "metadata": {
        "colab": {
          "base_uri": "https://localhost:8080/",
          "height": 53
        },
        "id": "ZA0IUPKMCnlv",
        "outputId": "9c2d8e15-dd23-442c-8a18-803c208f5c28"
      },
      "execution_count": null,
      "outputs": [
        {
          "output_type": "execute_result",
          "data": {
            "text/plain": [
              "\"In the quiet of the morn, before the day is born\\nThe sky begins to yawn, as the sun's light is drawn\\nPainting colors of pink and gold, a sight to behold\\nWelcome to the dawn, a new day unfolds.\""
            ],
            "application/vnd.google.colaboratory.intrinsic+json": {
              "type": "string"
            }
          },
          "metadata": {},
          "execution_count": 170
        }
      ]
    },
    {
      "cell_type": "code",
      "source": [
        "system_template = \"You are an experting in writing short rhyming poems in language '{language}'\"\n",
        "system_message_prompt = SystemMessagePromptTemplate.from_template(system_template)\n",
        "human_template = \"{user_input}\"\n",
        "human_message_prompt = HumanMessagePromptTemplate.from_template(human_template)\n",
        "chatPrompt = ChatPromptTemplate(input_variables = [\"user_input\",\"language\"],messages = [system_message_prompt,human_message_prompt])\n",
        "formattedChatPrompt = chatPrompt.format(user_input =\"fire\",language = \"Spanish\")"
      ],
      "metadata": {
        "id": "u4JWsw6E2yWB"
      },
      "execution_count": null,
      "outputs": []
    },
    {
      "cell_type": "code",
      "source": [
        "result = model.invoke(formattedChatPrompt)"
      ],
      "metadata": {
        "id": "ujV7u5NhDArP"
      },
      "execution_count": null,
      "outputs": []
    },
    {
      "cell_type": "code",
      "source": [
        "result.content"
      ],
      "metadata": {
        "colab": {
          "base_uri": "https://localhost:8080/",
          "height": 53
        },
        "id": "jtkumgQSDCYo",
        "outputId": "ae9d6566-929c-45d2-be06-a36b8f5f684a"
      },
      "execution_count": null,
      "outputs": [
        {
          "output_type": "execute_result",
          "data": {
            "text/plain": [
              "\"In the quiet of the morn, before the day is born\\nThe sky begins to yawn, as the sun's light is drawn\\nPainting colors of pink and gold, a sight to behold\\nWelcome to the dawn, a new day unfolds.\""
            ],
            "application/vnd.google.colaboratory.intrinsic+json": {
              "type": "string"
            }
          },
          "metadata": {},
          "execution_count": 169
        }
      ]
    },
    {
      "cell_type": "markdown",
      "source": [
        "My preferred way - short and sweet"
      ],
      "metadata": {
        "id": "2BCAFAQiFIVh"
      }
    },
    {
      "cell_type": "markdown",
      "source": [
        "Prompt Template"
      ],
      "metadata": {
        "id": "0nNbyHwOFMCD"
      }
    },
    {
      "cell_type": "code",
      "source": [
        "template = \" Write a short and rhyming poem based on user input ```{user_input}```\""
      ],
      "metadata": {
        "id": "vQiZTNtGDDcW"
      },
      "execution_count": null,
      "outputs": []
    },
    {
      "cell_type": "code",
      "source": [
        "prompt = PromptTemplate.from_template(template)"
      ],
      "metadata": {
        "id": "ZWvxBrpXFZ1j"
      },
      "execution_count": null,
      "outputs": []
    },
    {
      "cell_type": "code",
      "source": [
        "print(prompt.invoke(\"birds\"))"
      ],
      "metadata": {
        "colab": {
          "base_uri": "https://localhost:8080/"
        },
        "id": "XKXFavFvFrBn",
        "outputId": "de97da54-551b-4178-9d8d-e476c74d39e4"
      },
      "execution_count": null,
      "outputs": [
        {
          "output_type": "stream",
          "name": "stdout",
          "text": [
            "text=' Write a short and rhyming poem based on user input ```birds```'\n"
          ]
        }
      ]
    },
    {
      "cell_type": "code",
      "source": [
        "chain = prompt | model"
      ],
      "metadata": {
        "id": "kLlwMfGmFciX"
      },
      "execution_count": null,
      "outputs": []
    },
    {
      "cell_type": "code",
      "source": [
        "result = chain.invoke(\"birds\")"
      ],
      "metadata": {
        "id": "KTe72niIFh08"
      },
      "execution_count": null,
      "outputs": []
    },
    {
      "cell_type": "code",
      "source": [
        "result.content"
      ],
      "metadata": {
        "colab": {
          "base_uri": "https://localhost:8080/",
          "height": 53
        },
        "id": "4ELOCuYRFmuf",
        "outputId": "bd43d9eb-4eb7-4ae3-c5c9-90ef3e0b028a"
      },
      "execution_count": null,
      "outputs": [
        {
          "output_type": "execute_result",
          "data": {
            "text/plain": [
              "\"In the quiet of the morn, before the day is born\\nThe sky begins to yawn, as the sun's light is drawn\\nPainting colors of pink and gold, a sight to behold\\nWelcome to the dawn, a new day unfolds.\""
            ],
            "application/vnd.google.colaboratory.intrinsic+json": {
              "type": "string"
            }
          },
          "metadata": {},
          "execution_count": 168
        }
      ]
    },
    {
      "cell_type": "code",
      "source": [
        "template = \" Write a short and rhyming poem based on user input ```{user_input}``` in language ```{language}```\""
      ],
      "metadata": {
        "id": "kwBbbBheFnqE"
      },
      "execution_count": null,
      "outputs": []
    },
    {
      "cell_type": "code",
      "source": [
        "prompt = PromptTemplate.from_template(template)"
      ],
      "metadata": {
        "id": "hhOMAGvCF3vt"
      },
      "execution_count": null,
      "outputs": []
    },
    {
      "cell_type": "code",
      "source": [
        "print(prompt.invoke({\"user_input\": \"birds\",\"language\": \"spanish\"}))"
      ],
      "metadata": {
        "colab": {
          "base_uri": "https://localhost:8080/"
        },
        "id": "kSVBCQvpF6OO",
        "outputId": "4bc19c1e-79a1-441f-949b-0175f1154a58"
      },
      "execution_count": null,
      "outputs": [
        {
          "output_type": "stream",
          "name": "stdout",
          "text": [
            "text=' Write a short and rhyming poem based on user input ```birds``` in language ```spanish```'\n"
          ]
        }
      ]
    },
    {
      "cell_type": "code",
      "source": [
        "result = chain.invoke({\"user_input\": \"birds\",\"language\": \"spanish\"})"
      ],
      "metadata": {
        "id": "NCuS5gtiF91W"
      },
      "execution_count": null,
      "outputs": []
    },
    {
      "cell_type": "code",
      "source": [
        "result.content"
      ],
      "metadata": {
        "colab": {
          "base_uri": "https://localhost:8080/",
          "height": 53
        },
        "id": "T0Uf5mMbGQN8",
        "outputId": "4c6e862b-9212-4411-d9a1-f63da1ec7297"
      },
      "execution_count": null,
      "outputs": [
        {
          "output_type": "execute_result",
          "data": {
            "text/plain": [
              "\"In the quiet of the morn, before the day is born\\nThe sky begins to yawn, as the sun's light is drawn\\nPainting colors of pink and gold, a sight to behold\\nWelcome to the dawn, a new day unfolds.\""
            ],
            "application/vnd.google.colaboratory.intrinsic+json": {
              "type": "string"
            }
          },
          "metadata": {},
          "execution_count": 167
        }
      ]
    },
    {
      "cell_type": "markdown",
      "source": [
        "ChatPromptTemplate"
      ],
      "metadata": {
        "id": "BDmn7lygGYVS"
      }
    },
    {
      "cell_type": "code",
      "source": [
        "template = [(\"system\",\"Write a short rhyming poem based on user input\"),\n",
        "            (\"human\",\"{user_input}\")]"
      ],
      "metadata": {
        "id": "mrGk031vGRLN"
      },
      "execution_count": null,
      "outputs": []
    },
    {
      "cell_type": "code",
      "source": [
        "prompt = ChatPromptTemplate.from_messages(template)"
      ],
      "metadata": {
        "id": "3pE-QWcDGnWb"
      },
      "execution_count": null,
      "outputs": []
    },
    {
      "cell_type": "code",
      "source": [
        "print(prompt.invoke(\"dusk\"))"
      ],
      "metadata": {
        "colab": {
          "base_uri": "https://localhost:8080/"
        },
        "id": "EG0I_u66GuPz",
        "outputId": "9651f456-4b99-4828-93dc-d4e3d79852f3"
      },
      "execution_count": null,
      "outputs": [
        {
          "output_type": "stream",
          "name": "stdout",
          "text": [
            "messages=[SystemMessage(content='Write a short rhyming poem based on user input'), HumanMessage(content='dusk')]\n"
          ]
        }
      ]
    },
    {
      "cell_type": "code",
      "source": [
        "result = chain.invoke({\"user_input\": \"dusk\"})"
      ],
      "metadata": {
        "id": "onqUDWzFG_Hu"
      },
      "execution_count": null,
      "outputs": []
    },
    {
      "cell_type": "code",
      "source": [
        "result.content"
      ],
      "metadata": {
        "colab": {
          "base_uri": "https://localhost:8080/",
          "height": 53
        },
        "id": "mzPFxSHGHFo7",
        "outputId": "5eb4654a-75ff-45fb-8f0a-ebae55feda23"
      },
      "execution_count": null,
      "outputs": [
        {
          "output_type": "execute_result",
          "data": {
            "text/plain": [
              "\"In the quiet of the morn, before the day is born\\nThe sky begins to yawn, as the sun's light is drawn\\nPainting colors of pink and gold, a sight to behold\\nWelcome to the dawn, a new day unfolds.\""
            ],
            "application/vnd.google.colaboratory.intrinsic+json": {
              "type": "string"
            }
          },
          "metadata": {},
          "execution_count": 166
        }
      ]
    },
    {
      "cell_type": "code",
      "source": [
        "template = [(\"system\",\"Write a short rhyming poem based on user input\"),\n",
        "            (\"human\",\"{user_input}\"),\n",
        "            (\"human\",\"{language}\")]"
      ],
      "metadata": {
        "id": "6vb2ujBOHGcw"
      },
      "execution_count": null,
      "outputs": []
    },
    {
      "cell_type": "code",
      "source": [
        "prompt = ChatPromptTemplate.from_messages(template)"
      ],
      "metadata": {
        "id": "DyBUhQB6HPnn"
      },
      "execution_count": null,
      "outputs": []
    },
    {
      "cell_type": "code",
      "source": [
        "print(prompt.invoke({\"user_input\": \"dawn\",\"language\": \"spanish\"}))"
      ],
      "metadata": {
        "colab": {
          "base_uri": "https://localhost:8080/"
        },
        "id": "cMmB8tuAHQ83",
        "outputId": "c1d24b3e-426d-413a-ea5b-475a5119b701"
      },
      "execution_count": null,
      "outputs": [
        {
          "output_type": "stream",
          "name": "stdout",
          "text": [
            "messages=[SystemMessage(content='Write a short rhyming poem based on user input'), HumanMessage(content='dawn'), HumanMessage(content='spanish')]\n"
          ]
        }
      ]
    },
    {
      "cell_type": "code",
      "source": [
        "result = chain.invoke({\"user_input\": \"dawn\",\"language\": \"spanish\"})"
      ],
      "metadata": {
        "id": "YLUShUnBHTiS"
      },
      "execution_count": null,
      "outputs": []
    },
    {
      "cell_type": "code",
      "source": [
        "result.content"
      ],
      "metadata": {
        "colab": {
          "base_uri": "https://localhost:8080/",
          "height": 53
        },
        "id": "F8ZL3LoJHju5",
        "outputId": "0eadba64-ddad-49e6-86a1-3a099c296672"
      },
      "execution_count": null,
      "outputs": [
        {
          "output_type": "execute_result",
          "data": {
            "text/plain": [
              "\"In the quiet of the morn, before the day is born\\nThe sky begins to yawn, as the sun's light is drawn\\nPainting colors of pink and gold, a sight to behold\\nWelcome to the dawn, a new day unfolds.\""
            ],
            "application/vnd.google.colaboratory.intrinsic+json": {
              "type": "string"
            }
          },
          "metadata": {},
          "execution_count": 165
        }
      ]
    },
    {
      "cell_type": "code",
      "source": [],
      "metadata": {
        "id": "hARNGUXwHlET"
      },
      "execution_count": null,
      "outputs": []
    }
  ]
}